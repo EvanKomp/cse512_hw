{
 "cells": [
  {
   "cell_type": "markdown",
   "id": "96cf3db2-82c3-4dd0-a7c2-488e3be7e782",
   "metadata": {},
   "source": [
    "# HW 1"
   ]
  },
  {
   "cell_type": "code",
   "execution_count": 8,
   "id": "61a9f7a9-492b-44ca-9160-33b3a7f69056",
   "metadata": {},
   "outputs": [],
   "source": [
    "import pandas as pd\n",
    "import altair as alt\n",
    "import seaborn as sns\n",
    "import matplotlib.pyplot as plt\n",
    "from vega_datasets import data"
   ]
  },
  {
   "cell_type": "markdown",
   "id": "06a8e633-c4e6-4f5c-a123-c7ee6a0d3cb6",
   "metadata": {},
   "source": [
    "## Explore the data"
   ]
  },
  {
   "cell_type": "code",
   "execution_count": 15,
   "id": "d6f0aeb1-ca24-407f-99e1-77518697a265",
   "metadata": {},
   "outputs": [],
   "source": [
    "df = pd.read_csv('data.csv')"
   ]
  },
  {
   "cell_type": "code",
   "execution_count": 28,
   "id": "f390f3ca-d181-4ebd-ad66-60c0127f898d",
   "metadata": {},
   "outputs": [
    {
     "data": {
      "text/html": [
       "<div>\n",
       "<style scoped>\n",
       "    .dataframe tbody tr th:only-of-type {\n",
       "        vertical-align: middle;\n",
       "    }\n",
       "\n",
       "    .dataframe tbody tr th {\n",
       "        vertical-align: top;\n",
       "    }\n",
       "\n",
       "    .dataframe thead th {\n",
       "        text-align: right;\n",
       "    }\n",
       "</style>\n",
       "<table border=\"1\" class=\"dataframe\">\n",
       "  <thead>\n",
       "    <tr style=\"text-align: right;\">\n",
       "      <th></th>\n",
       "      <th>city</th>\n",
       "      <th>lon</th>\n",
       "      <th>lat</th>\n",
       "      <th>month</th>\n",
       "      <th>monthnum</th>\n",
       "      <th>sunshine</th>\n",
       "    </tr>\n",
       "  </thead>\n",
       "  <tbody>\n",
       "    <tr>\n",
       "      <th>0</th>\n",
       "      <td>Chicago</td>\n",
       "      <td>-87.623177</td>\n",
       "      <td>41.881832</td>\n",
       "      <td>Jan</td>\n",
       "      <td>0</td>\n",
       "      <td>135</td>\n",
       "    </tr>\n",
       "    <tr>\n",
       "      <th>1</th>\n",
       "      <td>Chicago</td>\n",
       "      <td>-87.623177</td>\n",
       "      <td>41.881832</td>\n",
       "      <td>Feb</td>\n",
       "      <td>1</td>\n",
       "      <td>136</td>\n",
       "    </tr>\n",
       "    <tr>\n",
       "      <th>2</th>\n",
       "      <td>Chicago</td>\n",
       "      <td>-87.623177</td>\n",
       "      <td>41.881832</td>\n",
       "      <td>Mar</td>\n",
       "      <td>2</td>\n",
       "      <td>187</td>\n",
       "    </tr>\n",
       "    <tr>\n",
       "      <th>3</th>\n",
       "      <td>Chicago</td>\n",
       "      <td>-87.623177</td>\n",
       "      <td>41.881832</td>\n",
       "      <td>Apr</td>\n",
       "      <td>3</td>\n",
       "      <td>215</td>\n",
       "    </tr>\n",
       "    <tr>\n",
       "      <th>4</th>\n",
       "      <td>Chicago</td>\n",
       "      <td>-87.623177</td>\n",
       "      <td>41.881832</td>\n",
       "      <td>May</td>\n",
       "      <td>4</td>\n",
       "      <td>281</td>\n",
       "    </tr>\n",
       "    <tr>\n",
       "      <th>...</th>\n",
       "      <td>...</td>\n",
       "      <td>...</td>\n",
       "      <td>...</td>\n",
       "      <td>...</td>\n",
       "      <td>...</td>\n",
       "      <td>...</td>\n",
       "    </tr>\n",
       "    <tr>\n",
       "      <th>67</th>\n",
       "      <td>Seattle</td>\n",
       "      <td>-122.335167</td>\n",
       "      <td>47.608013</td>\n",
       "      <td>Aug</td>\n",
       "      <td>7</td>\n",
       "      <td>281</td>\n",
       "    </tr>\n",
       "    <tr>\n",
       "      <th>68</th>\n",
       "      <td>Seattle</td>\n",
       "      <td>-122.335167</td>\n",
       "      <td>47.608013</td>\n",
       "      <td>Sep</td>\n",
       "      <td>8</td>\n",
       "      <td>221</td>\n",
       "    </tr>\n",
       "    <tr>\n",
       "      <th>69</th>\n",
       "      <td>Seattle</td>\n",
       "      <td>-122.335167</td>\n",
       "      <td>47.608013</td>\n",
       "      <td>Oct</td>\n",
       "      <td>9</td>\n",
       "      <td>142</td>\n",
       "    </tr>\n",
       "    <tr>\n",
       "      <th>70</th>\n",
       "      <td>Seattle</td>\n",
       "      <td>-122.335167</td>\n",
       "      <td>47.608013</td>\n",
       "      <td>Nov</td>\n",
       "      <td>10</td>\n",
       "      <td>72</td>\n",
       "    </tr>\n",
       "    <tr>\n",
       "      <th>71</th>\n",
       "      <td>Seattle</td>\n",
       "      <td>-122.335167</td>\n",
       "      <td>47.608013</td>\n",
       "      <td>Dec</td>\n",
       "      <td>11</td>\n",
       "      <td>52</td>\n",
       "    </tr>\n",
       "  </tbody>\n",
       "</table>\n",
       "<p>72 rows × 6 columns</p>\n",
       "</div>"
      ],
      "text/plain": [
       "       city         lon        lat month  monthnum  sunshine\n",
       "0   Chicago  -87.623177  41.881832   Jan         0       135\n",
       "1   Chicago  -87.623177  41.881832   Feb         1       136\n",
       "2   Chicago  -87.623177  41.881832   Mar         2       187\n",
       "3   Chicago  -87.623177  41.881832   Apr         3       215\n",
       "4   Chicago  -87.623177  41.881832   May         4       281\n",
       "..      ...         ...        ...   ...       ...       ...\n",
       "67  Seattle -122.335167  47.608013   Aug         7       281\n",
       "68  Seattle -122.335167  47.608013   Sep         8       221\n",
       "69  Seattle -122.335167  47.608013   Oct         9       142\n",
       "70  Seattle -122.335167  47.608013   Nov        10        72\n",
       "71  Seattle -122.335167  47.608013   Dec        11        52\n",
       "\n",
       "[72 rows x 6 columns]"
      ]
     },
     "execution_count": 28,
     "metadata": {},
     "output_type": "execute_result"
    }
   ],
   "source": [
    "df"
   ]
  },
  {
   "cell_type": "code",
   "execution_count": 16,
   "id": "5b800cdd-d85c-4b86-82cd-deafc1d89714",
   "metadata": {},
   "outputs": [
    {
     "data": {
      "text/plain": [
       "72"
      ]
     },
     "execution_count": 16,
     "metadata": {},
     "output_type": "execute_result"
    }
   ],
   "source": [
    "len(df)"
   ]
  },
  {
   "cell_type": "code",
   "execution_count": 17,
   "id": "be267972-a86e-4b4a-80e0-ff5cc95372e2",
   "metadata": {},
   "outputs": [
    {
     "data": {
      "text/plain": [
       "Index(['city', 'lon', 'lat', 'month', 'monthnum', 'sunshine'], dtype='object')"
      ]
     },
     "execution_count": 17,
     "metadata": {},
     "output_type": "execute_result"
    }
   ],
   "source": [
    "df.columns"
   ]
  },
  {
   "cell_type": "code",
   "execution_count": 18,
   "id": "75fe6793-9f1f-43be-8159-e5efc5e95d4d",
   "metadata": {},
   "outputs": [
    {
     "data": {
      "text/plain": [
       "Chicago          12\n",
       "Houston          12\n",
       "Miami            12\n",
       "New York         12\n",
       "San Francisco    12\n",
       "Seattle          12\n",
       "Name: city, dtype: int64"
      ]
     },
     "execution_count": 18,
     "metadata": {},
     "output_type": "execute_result"
    }
   ],
   "source": [
    "df['city'].value_counts()"
   ]
  },
  {
   "cell_type": "markdown",
   "id": "0551ce01-e498-41a3-86a7-02bb9d3b9743",
   "metadata": {},
   "source": [
    "Let's plot average sunshine yearlong over a map, and subset plots of time according to each"
   ]
  },
  {
   "cell_type": "code",
   "execution_count": 61,
   "id": "4992efed-6c85-4e83-8afc-58a630687bd0",
   "metadata": {},
   "outputs": [
    {
     "data": {
      "text/html": [
       "\n",
       "<div id=\"altair-viz-7c3a7e5d038c4bbfa800dde1f895de43\"></div>\n",
       "<script type=\"text/javascript\">\n",
       "  var VEGA_DEBUG = (typeof VEGA_DEBUG == \"undefined\") ? {} : VEGA_DEBUG;\n",
       "  (function(spec, embedOpt){\n",
       "    let outputDiv = document.currentScript.previousElementSibling;\n",
       "    if (outputDiv.id !== \"altair-viz-7c3a7e5d038c4bbfa800dde1f895de43\") {\n",
       "      outputDiv = document.getElementById(\"altair-viz-7c3a7e5d038c4bbfa800dde1f895de43\");\n",
       "    }\n",
       "    const paths = {\n",
       "      \"vega\": \"https://cdn.jsdelivr.net/npm//vega@5?noext\",\n",
       "      \"vega-lib\": \"https://cdn.jsdelivr.net/npm//vega-lib?noext\",\n",
       "      \"vega-lite\": \"https://cdn.jsdelivr.net/npm//vega-lite@4.17.0?noext\",\n",
       "      \"vega-embed\": \"https://cdn.jsdelivr.net/npm//vega-embed@6?noext\",\n",
       "    };\n",
       "\n",
       "    function maybeLoadScript(lib, version) {\n",
       "      var key = `${lib.replace(\"-\", \"\")}_version`;\n",
       "      return (VEGA_DEBUG[key] == version) ?\n",
       "        Promise.resolve(paths[lib]) :\n",
       "        new Promise(function(resolve, reject) {\n",
       "          var s = document.createElement('script');\n",
       "          document.getElementsByTagName(\"head\")[0].appendChild(s);\n",
       "          s.async = true;\n",
       "          s.onload = () => {\n",
       "            VEGA_DEBUG[key] = version;\n",
       "            return resolve(paths[lib]);\n",
       "          };\n",
       "          s.onerror = () => reject(`Error loading script: ${paths[lib]}`);\n",
       "          s.src = paths[lib];\n",
       "        });\n",
       "    }\n",
       "\n",
       "    function showError(err) {\n",
       "      outputDiv.innerHTML = `<div class=\"error\" style=\"color:red;\">${err}</div>`;\n",
       "      throw err;\n",
       "    }\n",
       "\n",
       "    function displayChart(vegaEmbed) {\n",
       "      vegaEmbed(outputDiv, spec, embedOpt)\n",
       "        .catch(err => showError(`Javascript Error: ${err.message}<br>This usually means there's a typo in your chart specification. See the javascript console for the full traceback.`));\n",
       "    }\n",
       "\n",
       "    if(typeof define === \"function\" && define.amd) {\n",
       "      requirejs.config({paths});\n",
       "      require([\"vega-embed\"], displayChart, err => showError(`Error loading script: ${err.message}`));\n",
       "    } else {\n",
       "      maybeLoadScript(\"vega\", \"5\")\n",
       "        .then(() => maybeLoadScript(\"vega-lite\", \"4.17.0\"))\n",
       "        .then(() => maybeLoadScript(\"vega-embed\", \"6\"))\n",
       "        .catch(showError)\n",
       "        .then(() => displayChart(vegaEmbed));\n",
       "    }\n",
       "  })({\"config\": {\"view\": {\"continuousWidth\": 400, \"continuousHeight\": 300}}, \"layer\": [{\"data\": {\"url\": \"https://cdn.jsdelivr.net/npm/vega-datasets@v1.29.0/data/us-10m.json\", \"format\": {\"feature\": \"states\", \"type\": \"topojson\"}}, \"mark\": {\"type\": \"geoshape\", \"fill\": \"lightgray\", \"stroke\": \"white\"}, \"height\": 300, \"projection\": {\"type\": \"albersUsa\"}, \"width\": 500}, {\"data\": {\"name\": \"data-162638687fd33f296a3b88b07ba677ef\"}, \"mark\": \"circle\", \"encoding\": {\"color\": {\"field\": \"city\", \"type\": \"nominal\"}, \"latitude\": {\"field\": \"latitude\", \"type\": \"quantitative\"}, \"longitude\": {\"field\": \"longitude\", \"type\": \"quantitative\"}, \"size\": {\"field\": \"avg_sunshine\", \"title\": \"average sunshine [hr/month]\", \"type\": \"quantitative\"}, \"tooltip\": [{\"field\": \"city\", \"type\": \"nominal\"}, {\"field\": \"avg_sunshine\", \"type\": \"quantitative\"}]}, \"title\": \"Average Sunshine Across 6 US Cities\", \"transform\": [{\"aggregate\": [{\"op\": \"mean\", \"field\": \"lat\", \"as\": \"latitude\"}, {\"op\": \"mean\", \"field\": \"lon\", \"as\": \"longitude\"}, {\"op\": \"mean\", \"field\": \"sunshine\", \"as\": \"avg_sunshine\"}], \"groupby\": [\"city\"]}]}, {\"data\": {\"name\": \"data-162638687fd33f296a3b88b07ba677ef\"}, \"mark\": {\"type\": \"text\", \"color\": \"black\", \"dx\": -15, \"dy\": 3}, \"encoding\": {\"latitude\": {\"field\": \"latitude\", \"type\": \"quantitative\"}, \"longitude\": {\"field\": \"longitude\", \"type\": \"quantitative\"}, \"text\": {\"field\": \"avg_sunshine\", \"format\": \".1f\", \"type\": \"quantitative\"}}, \"transform\": [{\"aggregate\": [{\"op\": \"mean\", \"field\": \"lat\", \"as\": \"latitude\"}, {\"op\": \"mean\", \"field\": \"lon\", \"as\": \"longitude\"}, {\"op\": \"mean\", \"field\": \"sunshine\", \"as\": \"avg_sunshine\"}], \"groupby\": [\"city\"]}]}], \"$schema\": \"https://vega.github.io/schema/vega-lite/v4.17.0.json\", \"datasets\": {\"data-162638687fd33f296a3b88b07ba677ef\": [{\"city\": \"Chicago\", \"lon\": -87.623177, \"lat\": 41.881832, \"month\": \"Jan\", \"monthnum\": 0, \"sunshine\": 135}, {\"city\": \"Chicago\", \"lon\": -87.623177, \"lat\": 41.881832, \"month\": \"Feb\", \"monthnum\": 1, \"sunshine\": 136}, {\"city\": \"Chicago\", \"lon\": -87.623177, \"lat\": 41.881832, \"month\": \"Mar\", \"monthnum\": 2, \"sunshine\": 187}, {\"city\": \"Chicago\", \"lon\": -87.623177, \"lat\": 41.881832, \"month\": \"Apr\", \"monthnum\": 3, \"sunshine\": 215}, {\"city\": \"Chicago\", \"lon\": -87.623177, \"lat\": 41.881832, \"month\": \"May\", \"monthnum\": 4, \"sunshine\": 281}, {\"city\": \"Chicago\", \"lon\": -87.623177, \"lat\": 41.881832, \"month\": \"Jun\", \"monthnum\": 5, \"sunshine\": 311}, {\"city\": \"Chicago\", \"lon\": -87.623177, \"lat\": 41.881832, \"month\": \"Jul\", \"monthnum\": 6, \"sunshine\": 318}, {\"city\": \"Chicago\", \"lon\": -87.623177, \"lat\": 41.881832, \"month\": \"Aug\", \"monthnum\": 7, \"sunshine\": 283}, {\"city\": \"Chicago\", \"lon\": -87.623177, \"lat\": 41.881832, \"month\": \"Sep\", \"monthnum\": 8, \"sunshine\": 226}, {\"city\": \"Chicago\", \"lon\": -87.623177, \"lat\": 41.881832, \"month\": \"Oct\", \"monthnum\": 9, \"sunshine\": 193}, {\"city\": \"Chicago\", \"lon\": -87.623177, \"lat\": 41.881832, \"month\": \"Nov\", \"monthnum\": 10, \"sunshine\": 113}, {\"city\": \"Chicago\", \"lon\": -87.623177, \"lat\": 41.881832, \"month\": \"Dec\", \"monthnum\": 11, \"sunshine\": 106}, {\"city\": \"Houston\", \"lon\": -95.358421, \"lat\": 29.749907, \"month\": \"Jan\", \"monthnum\": 0, \"sunshine\": 144}, {\"city\": \"Houston\", \"lon\": -95.358421, \"lat\": 29.749907, \"month\": \"Feb\", \"monthnum\": 1, \"sunshine\": 141}, {\"city\": \"Houston\", \"lon\": -95.358421, \"lat\": 29.749907, \"month\": \"Mar\", \"monthnum\": 2, \"sunshine\": 193}, {\"city\": \"Houston\", \"lon\": -95.358421, \"lat\": 29.749907, \"month\": \"Apr\", \"monthnum\": 3, \"sunshine\": 212}, {\"city\": \"Houston\", \"lon\": -95.358421, \"lat\": 29.749907, \"month\": \"May\", \"monthnum\": 4, \"sunshine\": 266}, {\"city\": \"Houston\", \"lon\": -95.358421, \"lat\": 29.749907, \"month\": \"Jun\", \"monthnum\": 5, \"sunshine\": 298}, {\"city\": \"Houston\", \"lon\": -95.358421, \"lat\": 29.749907, \"month\": \"Jul\", \"monthnum\": 6, \"sunshine\": 294}, {\"city\": \"Houston\", \"lon\": -95.358421, \"lat\": 29.749907, \"month\": \"Aug\", \"monthnum\": 7, \"sunshine\": 281}, {\"city\": \"Houston\", \"lon\": -95.358421, \"lat\": 29.749907, \"month\": \"Sep\", \"monthnum\": 8, \"sunshine\": 238}, {\"city\": \"Houston\", \"lon\": -95.358421, \"lat\": 29.749907, \"month\": \"Oct\", \"monthnum\": 9, \"sunshine\": 239}, {\"city\": \"Houston\", \"lon\": -95.358421, \"lat\": 29.749907, \"month\": \"Nov\", \"monthnum\": 10, \"sunshine\": 181}, {\"city\": \"Houston\", \"lon\": -95.358421, \"lat\": 29.749907, \"month\": \"Dec\", \"monthnum\": 11, \"sunshine\": 146}, {\"city\": \"Miami\", \"lon\": -80.191788, \"lat\": 25.761681, \"month\": \"Jan\", \"monthnum\": 0, \"sunshine\": 222}, {\"city\": \"Miami\", \"lon\": -80.191788, \"lat\": 25.761681, \"month\": \"Feb\", \"monthnum\": 1, \"sunshine\": 227}, {\"city\": \"Miami\", \"lon\": -80.191788, \"lat\": 25.761681, \"month\": \"Mar\", \"monthnum\": 2, \"sunshine\": 266}, {\"city\": \"Miami\", \"lon\": -80.191788, \"lat\": 25.761681, \"month\": \"Apr\", \"monthnum\": 3, \"sunshine\": 275}, {\"city\": \"Miami\", \"lon\": -80.191788, \"lat\": 25.761681, \"month\": \"May\", \"monthnum\": 4, \"sunshine\": 280}, {\"city\": \"Miami\", \"lon\": -80.191788, \"lat\": 25.761681, \"month\": \"Jun\", \"monthnum\": 5, \"sunshine\": 251}, {\"city\": \"Miami\", \"lon\": -80.191788, \"lat\": 25.761681, \"month\": \"Jul\", \"monthnum\": 6, \"sunshine\": 267}, {\"city\": \"Miami\", \"lon\": -80.191788, \"lat\": 25.761681, \"month\": \"Aug\", \"monthnum\": 7, \"sunshine\": 263}, {\"city\": \"Miami\", \"lon\": -80.191788, \"lat\": 25.761681, \"month\": \"Sep\", \"monthnum\": 8, \"sunshine\": 216}, {\"city\": \"Miami\", \"lon\": -80.191788, \"lat\": 25.761681, \"month\": \"Oct\", \"monthnum\": 9, \"sunshine\": 215}, {\"city\": \"Miami\", \"lon\": -80.191788, \"lat\": 25.761681, \"month\": \"Nov\", \"monthnum\": 10, \"sunshine\": 212}, {\"city\": \"Miami\", \"lon\": -80.191788, \"lat\": 25.761681, \"month\": \"Dec\", \"monthnum\": 11, \"sunshine\": 209}, {\"city\": \"New York\", \"lon\": -73.935242, \"lat\": 40.73061, \"month\": \"Jan\", \"monthnum\": 0, \"sunshine\": 154}, {\"city\": \"New York\", \"lon\": -73.935242, \"lat\": 40.73061, \"month\": \"Feb\", \"monthnum\": 1, \"sunshine\": 171}, {\"city\": \"New York\", \"lon\": -73.935242, \"lat\": 40.73061, \"month\": \"Mar\", \"monthnum\": 2, \"sunshine\": 213}, {\"city\": \"New York\", \"lon\": -73.935242, \"lat\": 40.73061, \"month\": \"Apr\", \"monthnum\": 3, \"sunshine\": 237}, {\"city\": \"New York\", \"lon\": -73.935242, \"lat\": 40.73061, \"month\": \"May\", \"monthnum\": 4, \"sunshine\": 268}, {\"city\": \"New York\", \"lon\": -73.935242, \"lat\": 40.73061, \"month\": \"Jun\", \"monthnum\": 5, \"sunshine\": 289}, {\"city\": \"New York\", \"lon\": -73.935242, \"lat\": 40.73061, \"month\": \"Jul\", \"monthnum\": 6, \"sunshine\": 302}, {\"city\": \"New York\", \"lon\": -73.935242, \"lat\": 40.73061, \"month\": \"Aug\", \"monthnum\": 7, \"sunshine\": 271}, {\"city\": \"New York\", \"lon\": -73.935242, \"lat\": 40.73061, \"month\": \"Sep\", \"monthnum\": 8, \"sunshine\": 235}, {\"city\": \"New York\", \"lon\": -73.935242, \"lat\": 40.73061, \"month\": \"Oct\", \"monthnum\": 9, \"sunshine\": 213}, {\"city\": \"New York\", \"lon\": -73.935242, \"lat\": 40.73061, \"month\": \"Nov\", \"monthnum\": 10, \"sunshine\": 169}, {\"city\": \"New York\", \"lon\": -73.935242, \"lat\": 40.73061, \"month\": \"Dec\", \"monthnum\": 11, \"sunshine\": 155}, {\"city\": \"San Francisco\", \"lon\": -122.446747, \"lat\": 37.733795, \"month\": \"Jan\", \"monthnum\": 0, \"sunshine\": 165}, {\"city\": \"San Francisco\", \"lon\": -122.446747, \"lat\": 37.733795, \"month\": \"Feb\", \"monthnum\": 1, \"sunshine\": 182}, {\"city\": \"San Francisco\", \"lon\": -122.446747, \"lat\": 37.733795, \"month\": \"Mar\", \"monthnum\": 2, \"sunshine\": 251}, {\"city\": \"San Francisco\", \"lon\": -122.446747, \"lat\": 37.733795, \"month\": \"Apr\", \"monthnum\": 3, \"sunshine\": 281}, {\"city\": \"San Francisco\", \"lon\": -122.446747, \"lat\": 37.733795, \"month\": \"May\", \"monthnum\": 4, \"sunshine\": 314}, {\"city\": \"San Francisco\", \"lon\": -122.446747, \"lat\": 37.733795, \"month\": \"Jun\", \"monthnum\": 5, \"sunshine\": 330}, {\"city\": \"San Francisco\", \"lon\": -122.446747, \"lat\": 37.733795, \"month\": \"Jul\", \"monthnum\": 6, \"sunshine\": 300}, {\"city\": \"San Francisco\", \"lon\": -122.446747, \"lat\": 37.733795, \"month\": \"Aug\", \"monthnum\": 7, \"sunshine\": 272}, {\"city\": \"San Francisco\", \"lon\": -122.446747, \"lat\": 37.733795, \"month\": \"Sep\", \"monthnum\": 8, \"sunshine\": 267}, {\"city\": \"San Francisco\", \"lon\": -122.446747, \"lat\": 37.733795, \"month\": \"Oct\", \"monthnum\": 9, \"sunshine\": 243}, {\"city\": \"San Francisco\", \"lon\": -122.446747, \"lat\": 37.733795, \"month\": \"Nov\", \"monthnum\": 10, \"sunshine\": 189}, {\"city\": \"San Francisco\", \"lon\": -122.446747, \"lat\": 37.733795, \"month\": \"Dec\", \"monthnum\": 11, \"sunshine\": 156}, {\"city\": \"Seattle\", \"lon\": -122.335167, \"lat\": 47.608013, \"month\": \"Jan\", \"monthnum\": 0, \"sunshine\": 69}, {\"city\": \"Seattle\", \"lon\": -122.335167, \"lat\": 47.608013, \"month\": \"Feb\", \"monthnum\": 1, \"sunshine\": 108}, {\"city\": \"Seattle\", \"lon\": -122.335167, \"lat\": 47.608013, \"month\": \"Mar\", \"monthnum\": 2, \"sunshine\": 178}, {\"city\": \"Seattle\", \"lon\": -122.335167, \"lat\": 47.608013, \"month\": \"Apr\", \"monthnum\": 3, \"sunshine\": 207}, {\"city\": \"Seattle\", \"lon\": -122.335167, \"lat\": 47.608013, \"month\": \"May\", \"monthnum\": 4, \"sunshine\": 253}, {\"city\": \"Seattle\", \"lon\": -122.335167, \"lat\": 47.608013, \"month\": \"Jun\", \"monthnum\": 5, \"sunshine\": 268}, {\"city\": \"Seattle\", \"lon\": -122.335167, \"lat\": 47.608013, \"month\": \"Jul\", \"monthnum\": 6, \"sunshine\": 312}, {\"city\": \"Seattle\", \"lon\": -122.335167, \"lat\": 47.608013, \"month\": \"Aug\", \"monthnum\": 7, \"sunshine\": 281}, {\"city\": \"Seattle\", \"lon\": -122.335167, \"lat\": 47.608013, \"month\": \"Sep\", \"monthnum\": 8, \"sunshine\": 221}, {\"city\": \"Seattle\", \"lon\": -122.335167, \"lat\": 47.608013, \"month\": \"Oct\", \"monthnum\": 9, \"sunshine\": 142}, {\"city\": \"Seattle\", \"lon\": -122.335167, \"lat\": 47.608013, \"month\": \"Nov\", \"monthnum\": 10, \"sunshine\": 72}, {\"city\": \"Seattle\", \"lon\": -122.335167, \"lat\": 47.608013, \"month\": \"Dec\", \"monthnum\": 11, \"sunshine\": 52}]}}, {\"mode\": \"vega-lite\"});\n",
       "</script>"
      ],
      "text/plain": [
       "alt.LayerChart(...)"
      ]
     },
     "execution_count": 61,
     "metadata": {},
     "output_type": "execute_result"
    }
   ],
   "source": [
    "states = alt.topo_feature(data.us_10m.url, feature='states')\n",
    "\n",
    "# US states background\n",
    "background = alt.Chart(states).mark_geoshape(\n",
    "    fill='lightgray',\n",
    "    stroke='white'\n",
    ").properties(\n",
    "    width=500,\n",
    "    height=300\n",
    ").project('albersUsa')\n",
    "\n",
    "points = alt.Chart(df).transform_aggregate(\n",
    "    latitude='mean(lat)',\n",
    "    longitude='mean(lon)',\n",
    "    avg_sunshine='mean(sunshine)',\n",
    "    groupby=['city']\n",
    ").mark_circle().encode(\n",
    "    longitude='longitude:Q',\n",
    "    latitude='latitude:Q',\n",
    "    size=alt.Size('avg_sunshine:Q', title='average sunshine [hr/month]'),\n",
    "    color='city',\n",
    "    tooltip=['city:N','avg_sunshine:Q']\n",
    ").properties(\n",
    "    title='Average Sunshine Across 6 US Cities'\n",
    ")\n",
    "\n",
    "text = alt.Chart(df).transform_aggregate(\n",
    "    latitude='mean(lat)',\n",
    "    longitude='mean(lon)',\n",
    "    avg_sunshine='mean(sunshine)',\n",
    "    groupby=['city']\n",
    ").mark_text(dx=-15, dy=3, color='black').encode(\n",
    "    longitude='longitude:Q',\n",
    "    latitude='latitude:Q',\n",
    "    text=alt.Text('avg_sunshine:Q', format='.1f'),\n",
    ")\n",
    "\n",
    "mapplot = background + points + text\n",
    "mapplot"
   ]
  },
  {
   "cell_type": "code",
   "execution_count": 62,
   "id": "265680e3-e31b-45c1-89f7-62625a36dd16",
   "metadata": {},
   "outputs": [],
   "source": [
    "bar = alt.Chart(df).mark_line().encode(\n",
    "    x=alt.X('monthnum:O', axis=alt.Axis(title='Month [0:Jan-11:Dec]')),\n",
    "    y=alt.Y('sunshine:Q', axis=alt.Axis(title='sunshine [hr/month]')),\n",
    "    color='city:N'\n",
    ").properties(title='Sunshine in 6 US Cities Over a Year')"
   ]
  },
  {
   "cell_type": "code",
   "execution_count": 63,
   "id": "c8eb6e9c-6bd1-495c-911f-c0f125a10762",
   "metadata": {},
   "outputs": [
    {
     "data": {
      "text/html": [
       "\n",
       "<div id=\"altair-viz-37f7b7c2118f4727bd0e2daf4c8abd32\"></div>\n",
       "<script type=\"text/javascript\">\n",
       "  var VEGA_DEBUG = (typeof VEGA_DEBUG == \"undefined\") ? {} : VEGA_DEBUG;\n",
       "  (function(spec, embedOpt){\n",
       "    let outputDiv = document.currentScript.previousElementSibling;\n",
       "    if (outputDiv.id !== \"altair-viz-37f7b7c2118f4727bd0e2daf4c8abd32\") {\n",
       "      outputDiv = document.getElementById(\"altair-viz-37f7b7c2118f4727bd0e2daf4c8abd32\");\n",
       "    }\n",
       "    const paths = {\n",
       "      \"vega\": \"https://cdn.jsdelivr.net/npm//vega@5?noext\",\n",
       "      \"vega-lib\": \"https://cdn.jsdelivr.net/npm//vega-lib?noext\",\n",
       "      \"vega-lite\": \"https://cdn.jsdelivr.net/npm//vega-lite@4.17.0?noext\",\n",
       "      \"vega-embed\": \"https://cdn.jsdelivr.net/npm//vega-embed@6?noext\",\n",
       "    };\n",
       "\n",
       "    function maybeLoadScript(lib, version) {\n",
       "      var key = `${lib.replace(\"-\", \"\")}_version`;\n",
       "      return (VEGA_DEBUG[key] == version) ?\n",
       "        Promise.resolve(paths[lib]) :\n",
       "        new Promise(function(resolve, reject) {\n",
       "          var s = document.createElement('script');\n",
       "          document.getElementsByTagName(\"head\")[0].appendChild(s);\n",
       "          s.async = true;\n",
       "          s.onload = () => {\n",
       "            VEGA_DEBUG[key] = version;\n",
       "            return resolve(paths[lib]);\n",
       "          };\n",
       "          s.onerror = () => reject(`Error loading script: ${paths[lib]}`);\n",
       "          s.src = paths[lib];\n",
       "        });\n",
       "    }\n",
       "\n",
       "    function showError(err) {\n",
       "      outputDiv.innerHTML = `<div class=\"error\" style=\"color:red;\">${err}</div>`;\n",
       "      throw err;\n",
       "    }\n",
       "\n",
       "    function displayChart(vegaEmbed) {\n",
       "      vegaEmbed(outputDiv, spec, embedOpt)\n",
       "        .catch(err => showError(`Javascript Error: ${err.message}<br>This usually means there's a typo in your chart specification. See the javascript console for the full traceback.`));\n",
       "    }\n",
       "\n",
       "    if(typeof define === \"function\" && define.amd) {\n",
       "      requirejs.config({paths});\n",
       "      require([\"vega-embed\"], displayChart, err => showError(`Error loading script: ${err.message}`));\n",
       "    } else {\n",
       "      maybeLoadScript(\"vega\", \"5\")\n",
       "        .then(() => maybeLoadScript(\"vega-lite\", \"4.17.0\"))\n",
       "        .then(() => maybeLoadScript(\"vega-embed\", \"6\"))\n",
       "        .catch(showError)\n",
       "        .then(() => displayChart(vegaEmbed));\n",
       "    }\n",
       "  })({\"config\": {\"view\": {\"continuousWidth\": 400, \"continuousHeight\": 300}}, \"hconcat\": [{\"layer\": [{\"data\": {\"url\": \"https://cdn.jsdelivr.net/npm/vega-datasets@v1.29.0/data/us-10m.json\", \"format\": {\"feature\": \"states\", \"type\": \"topojson\"}}, \"mark\": {\"type\": \"geoshape\", \"fill\": \"lightgray\", \"stroke\": \"white\"}, \"height\": 300, \"projection\": {\"type\": \"albersUsa\"}, \"width\": 500}, {\"data\": {\"name\": \"data-162638687fd33f296a3b88b07ba677ef\"}, \"mark\": \"circle\", \"encoding\": {\"color\": {\"field\": \"city\", \"type\": \"nominal\"}, \"latitude\": {\"field\": \"latitude\", \"type\": \"quantitative\"}, \"longitude\": {\"field\": \"longitude\", \"type\": \"quantitative\"}, \"size\": {\"field\": \"avg_sunshine\", \"title\": \"average sunshine [hr/month]\", \"type\": \"quantitative\"}, \"tooltip\": [{\"field\": \"city\", \"type\": \"nominal\"}, {\"field\": \"avg_sunshine\", \"type\": \"quantitative\"}]}, \"title\": \"Average Sunshine Across 6 US Cities\", \"transform\": [{\"aggregate\": [{\"op\": \"mean\", \"field\": \"lat\", \"as\": \"latitude\"}, {\"op\": \"mean\", \"field\": \"lon\", \"as\": \"longitude\"}, {\"op\": \"mean\", \"field\": \"sunshine\", \"as\": \"avg_sunshine\"}], \"groupby\": [\"city\"]}]}, {\"data\": {\"name\": \"data-162638687fd33f296a3b88b07ba677ef\"}, \"mark\": {\"type\": \"text\", \"color\": \"black\", \"dx\": -15, \"dy\": 3}, \"encoding\": {\"latitude\": {\"field\": \"latitude\", \"type\": \"quantitative\"}, \"longitude\": {\"field\": \"longitude\", \"type\": \"quantitative\"}, \"text\": {\"field\": \"avg_sunshine\", \"format\": \".1f\", \"type\": \"quantitative\"}}, \"transform\": [{\"aggregate\": [{\"op\": \"mean\", \"field\": \"lat\", \"as\": \"latitude\"}, {\"op\": \"mean\", \"field\": \"lon\", \"as\": \"longitude\"}, {\"op\": \"mean\", \"field\": \"sunshine\", \"as\": \"avg_sunshine\"}], \"groupby\": [\"city\"]}]}]}, {\"data\": {\"name\": \"data-162638687fd33f296a3b88b07ba677ef\"}, \"mark\": \"line\", \"encoding\": {\"color\": {\"field\": \"city\", \"type\": \"nominal\"}, \"x\": {\"axis\": {\"title\": \"Month [0:Jan-11:Dec]\"}, \"field\": \"monthnum\", \"type\": \"ordinal\"}, \"y\": {\"axis\": {\"title\": \"sunshine [hr/month]\"}, \"field\": \"sunshine\", \"type\": \"quantitative\"}}, \"title\": \"Sunshine in 6 US Cities Over a Year\"}], \"$schema\": \"https://vega.github.io/schema/vega-lite/v4.17.0.json\", \"datasets\": {\"data-162638687fd33f296a3b88b07ba677ef\": [{\"city\": \"Chicago\", \"lon\": -87.623177, \"lat\": 41.881832, \"month\": \"Jan\", \"monthnum\": 0, \"sunshine\": 135}, {\"city\": \"Chicago\", \"lon\": -87.623177, \"lat\": 41.881832, \"month\": \"Feb\", \"monthnum\": 1, \"sunshine\": 136}, {\"city\": \"Chicago\", \"lon\": -87.623177, \"lat\": 41.881832, \"month\": \"Mar\", \"monthnum\": 2, \"sunshine\": 187}, {\"city\": \"Chicago\", \"lon\": -87.623177, \"lat\": 41.881832, \"month\": \"Apr\", \"monthnum\": 3, \"sunshine\": 215}, {\"city\": \"Chicago\", \"lon\": -87.623177, \"lat\": 41.881832, \"month\": \"May\", \"monthnum\": 4, \"sunshine\": 281}, {\"city\": \"Chicago\", \"lon\": -87.623177, \"lat\": 41.881832, \"month\": \"Jun\", \"monthnum\": 5, \"sunshine\": 311}, {\"city\": \"Chicago\", \"lon\": -87.623177, \"lat\": 41.881832, \"month\": \"Jul\", \"monthnum\": 6, \"sunshine\": 318}, {\"city\": \"Chicago\", \"lon\": -87.623177, \"lat\": 41.881832, \"month\": \"Aug\", \"monthnum\": 7, \"sunshine\": 283}, {\"city\": \"Chicago\", \"lon\": -87.623177, \"lat\": 41.881832, \"month\": \"Sep\", \"monthnum\": 8, \"sunshine\": 226}, {\"city\": \"Chicago\", \"lon\": -87.623177, \"lat\": 41.881832, \"month\": \"Oct\", \"monthnum\": 9, \"sunshine\": 193}, {\"city\": \"Chicago\", \"lon\": -87.623177, \"lat\": 41.881832, \"month\": \"Nov\", \"monthnum\": 10, \"sunshine\": 113}, {\"city\": \"Chicago\", \"lon\": -87.623177, \"lat\": 41.881832, \"month\": \"Dec\", \"monthnum\": 11, \"sunshine\": 106}, {\"city\": \"Houston\", \"lon\": -95.358421, \"lat\": 29.749907, \"month\": \"Jan\", \"monthnum\": 0, \"sunshine\": 144}, {\"city\": \"Houston\", \"lon\": -95.358421, \"lat\": 29.749907, \"month\": \"Feb\", \"monthnum\": 1, \"sunshine\": 141}, {\"city\": \"Houston\", \"lon\": -95.358421, \"lat\": 29.749907, \"month\": \"Mar\", \"monthnum\": 2, \"sunshine\": 193}, {\"city\": \"Houston\", \"lon\": -95.358421, \"lat\": 29.749907, \"month\": \"Apr\", \"monthnum\": 3, \"sunshine\": 212}, {\"city\": \"Houston\", \"lon\": -95.358421, \"lat\": 29.749907, \"month\": \"May\", \"monthnum\": 4, \"sunshine\": 266}, {\"city\": \"Houston\", \"lon\": -95.358421, \"lat\": 29.749907, \"month\": \"Jun\", \"monthnum\": 5, \"sunshine\": 298}, {\"city\": \"Houston\", \"lon\": -95.358421, \"lat\": 29.749907, \"month\": \"Jul\", \"monthnum\": 6, \"sunshine\": 294}, {\"city\": \"Houston\", \"lon\": -95.358421, \"lat\": 29.749907, \"month\": \"Aug\", \"monthnum\": 7, \"sunshine\": 281}, {\"city\": \"Houston\", \"lon\": -95.358421, \"lat\": 29.749907, \"month\": \"Sep\", \"monthnum\": 8, \"sunshine\": 238}, {\"city\": \"Houston\", \"lon\": -95.358421, \"lat\": 29.749907, \"month\": \"Oct\", \"monthnum\": 9, \"sunshine\": 239}, {\"city\": \"Houston\", \"lon\": -95.358421, \"lat\": 29.749907, \"month\": \"Nov\", \"monthnum\": 10, \"sunshine\": 181}, {\"city\": \"Houston\", \"lon\": -95.358421, \"lat\": 29.749907, \"month\": \"Dec\", \"monthnum\": 11, \"sunshine\": 146}, {\"city\": \"Miami\", \"lon\": -80.191788, \"lat\": 25.761681, \"month\": \"Jan\", \"monthnum\": 0, \"sunshine\": 222}, {\"city\": \"Miami\", \"lon\": -80.191788, \"lat\": 25.761681, \"month\": \"Feb\", \"monthnum\": 1, \"sunshine\": 227}, {\"city\": \"Miami\", \"lon\": -80.191788, \"lat\": 25.761681, \"month\": \"Mar\", \"monthnum\": 2, \"sunshine\": 266}, {\"city\": \"Miami\", \"lon\": -80.191788, \"lat\": 25.761681, \"month\": \"Apr\", \"monthnum\": 3, \"sunshine\": 275}, {\"city\": \"Miami\", \"lon\": -80.191788, \"lat\": 25.761681, \"month\": \"May\", \"monthnum\": 4, \"sunshine\": 280}, {\"city\": \"Miami\", \"lon\": -80.191788, \"lat\": 25.761681, \"month\": \"Jun\", \"monthnum\": 5, \"sunshine\": 251}, {\"city\": \"Miami\", \"lon\": -80.191788, \"lat\": 25.761681, \"month\": \"Jul\", \"monthnum\": 6, \"sunshine\": 267}, {\"city\": \"Miami\", \"lon\": -80.191788, \"lat\": 25.761681, \"month\": \"Aug\", \"monthnum\": 7, \"sunshine\": 263}, {\"city\": \"Miami\", \"lon\": -80.191788, \"lat\": 25.761681, \"month\": \"Sep\", \"monthnum\": 8, \"sunshine\": 216}, {\"city\": \"Miami\", \"lon\": -80.191788, \"lat\": 25.761681, \"month\": \"Oct\", \"monthnum\": 9, \"sunshine\": 215}, {\"city\": \"Miami\", \"lon\": -80.191788, \"lat\": 25.761681, \"month\": \"Nov\", \"monthnum\": 10, \"sunshine\": 212}, {\"city\": \"Miami\", \"lon\": -80.191788, \"lat\": 25.761681, \"month\": \"Dec\", \"monthnum\": 11, \"sunshine\": 209}, {\"city\": \"New York\", \"lon\": -73.935242, \"lat\": 40.73061, \"month\": \"Jan\", \"monthnum\": 0, \"sunshine\": 154}, {\"city\": \"New York\", \"lon\": -73.935242, \"lat\": 40.73061, \"month\": \"Feb\", \"monthnum\": 1, \"sunshine\": 171}, {\"city\": \"New York\", \"lon\": -73.935242, \"lat\": 40.73061, \"month\": \"Mar\", \"monthnum\": 2, \"sunshine\": 213}, {\"city\": \"New York\", \"lon\": -73.935242, \"lat\": 40.73061, \"month\": \"Apr\", \"monthnum\": 3, \"sunshine\": 237}, {\"city\": \"New York\", \"lon\": -73.935242, \"lat\": 40.73061, \"month\": \"May\", \"monthnum\": 4, \"sunshine\": 268}, {\"city\": \"New York\", \"lon\": -73.935242, \"lat\": 40.73061, \"month\": \"Jun\", \"monthnum\": 5, \"sunshine\": 289}, {\"city\": \"New York\", \"lon\": -73.935242, \"lat\": 40.73061, \"month\": \"Jul\", \"monthnum\": 6, \"sunshine\": 302}, {\"city\": \"New York\", \"lon\": -73.935242, \"lat\": 40.73061, \"month\": \"Aug\", \"monthnum\": 7, \"sunshine\": 271}, {\"city\": \"New York\", \"lon\": -73.935242, \"lat\": 40.73061, \"month\": \"Sep\", \"monthnum\": 8, \"sunshine\": 235}, {\"city\": \"New York\", \"lon\": -73.935242, \"lat\": 40.73061, \"month\": \"Oct\", \"monthnum\": 9, \"sunshine\": 213}, {\"city\": \"New York\", \"lon\": -73.935242, \"lat\": 40.73061, \"month\": \"Nov\", \"monthnum\": 10, \"sunshine\": 169}, {\"city\": \"New York\", \"lon\": -73.935242, \"lat\": 40.73061, \"month\": \"Dec\", \"monthnum\": 11, \"sunshine\": 155}, {\"city\": \"San Francisco\", \"lon\": -122.446747, \"lat\": 37.733795, \"month\": \"Jan\", \"monthnum\": 0, \"sunshine\": 165}, {\"city\": \"San Francisco\", \"lon\": -122.446747, \"lat\": 37.733795, \"month\": \"Feb\", \"monthnum\": 1, \"sunshine\": 182}, {\"city\": \"San Francisco\", \"lon\": -122.446747, \"lat\": 37.733795, \"month\": \"Mar\", \"monthnum\": 2, \"sunshine\": 251}, {\"city\": \"San Francisco\", \"lon\": -122.446747, \"lat\": 37.733795, \"month\": \"Apr\", \"monthnum\": 3, \"sunshine\": 281}, {\"city\": \"San Francisco\", \"lon\": -122.446747, \"lat\": 37.733795, \"month\": \"May\", \"monthnum\": 4, \"sunshine\": 314}, {\"city\": \"San Francisco\", \"lon\": -122.446747, \"lat\": 37.733795, \"month\": \"Jun\", \"monthnum\": 5, \"sunshine\": 330}, {\"city\": \"San Francisco\", \"lon\": -122.446747, \"lat\": 37.733795, \"month\": \"Jul\", \"monthnum\": 6, \"sunshine\": 300}, {\"city\": \"San Francisco\", \"lon\": -122.446747, \"lat\": 37.733795, \"month\": \"Aug\", \"monthnum\": 7, \"sunshine\": 272}, {\"city\": \"San Francisco\", \"lon\": -122.446747, \"lat\": 37.733795, \"month\": \"Sep\", \"monthnum\": 8, \"sunshine\": 267}, {\"city\": \"San Francisco\", \"lon\": -122.446747, \"lat\": 37.733795, \"month\": \"Oct\", \"monthnum\": 9, \"sunshine\": 243}, {\"city\": \"San Francisco\", \"lon\": -122.446747, \"lat\": 37.733795, \"month\": \"Nov\", \"monthnum\": 10, \"sunshine\": 189}, {\"city\": \"San Francisco\", \"lon\": -122.446747, \"lat\": 37.733795, \"month\": \"Dec\", \"monthnum\": 11, \"sunshine\": 156}, {\"city\": \"Seattle\", \"lon\": -122.335167, \"lat\": 47.608013, \"month\": \"Jan\", \"monthnum\": 0, \"sunshine\": 69}, {\"city\": \"Seattle\", \"lon\": -122.335167, \"lat\": 47.608013, \"month\": \"Feb\", \"monthnum\": 1, \"sunshine\": 108}, {\"city\": \"Seattle\", \"lon\": -122.335167, \"lat\": 47.608013, \"month\": \"Mar\", \"monthnum\": 2, \"sunshine\": 178}, {\"city\": \"Seattle\", \"lon\": -122.335167, \"lat\": 47.608013, \"month\": \"Apr\", \"monthnum\": 3, \"sunshine\": 207}, {\"city\": \"Seattle\", \"lon\": -122.335167, \"lat\": 47.608013, \"month\": \"May\", \"monthnum\": 4, \"sunshine\": 253}, {\"city\": \"Seattle\", \"lon\": -122.335167, \"lat\": 47.608013, \"month\": \"Jun\", \"monthnum\": 5, \"sunshine\": 268}, {\"city\": \"Seattle\", \"lon\": -122.335167, \"lat\": 47.608013, \"month\": \"Jul\", \"monthnum\": 6, \"sunshine\": 312}, {\"city\": \"Seattle\", \"lon\": -122.335167, \"lat\": 47.608013, \"month\": \"Aug\", \"monthnum\": 7, \"sunshine\": 281}, {\"city\": \"Seattle\", \"lon\": -122.335167, \"lat\": 47.608013, \"month\": \"Sep\", \"monthnum\": 8, \"sunshine\": 221}, {\"city\": \"Seattle\", \"lon\": -122.335167, \"lat\": 47.608013, \"month\": \"Oct\", \"monthnum\": 9, \"sunshine\": 142}, {\"city\": \"Seattle\", \"lon\": -122.335167, \"lat\": 47.608013, \"month\": \"Nov\", \"monthnum\": 10, \"sunshine\": 72}, {\"city\": \"Seattle\", \"lon\": -122.335167, \"lat\": 47.608013, \"month\": \"Dec\", \"monthnum\": 11, \"sunshine\": 52}]}}, {\"mode\": \"vega-lite\"});\n",
       "</script>"
      ],
      "text/plain": [
       "alt.HConcatChart(...)"
      ]
     },
     "execution_count": 63,
     "metadata": {},
     "output_type": "execute_result"
    }
   ],
   "source": [
    "mapplot | bar"
   ]
  },
  {
   "cell_type": "code",
   "execution_count": null,
   "id": "37b0ecb7-f25c-4452-b39e-2b275642ed33",
   "metadata": {},
   "outputs": [],
   "source": []
  }
 ],
 "metadata": {
  "kernelspec": {
   "display_name": "Python 3 (ipykernel)",
   "language": "python",
   "name": "python3"
  },
  "language_info": {
   "codemirror_mode": {
    "name": "ipython",
    "version": 3
   },
   "file_extension": ".py",
   "mimetype": "text/x-python",
   "name": "python",
   "nbconvert_exporter": "python",
   "pygments_lexer": "ipython3",
   "version": "3.10.4"
  }
 },
 "nbformat": 4,
 "nbformat_minor": 5
}
